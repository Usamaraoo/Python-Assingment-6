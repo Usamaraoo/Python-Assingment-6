{
 "cells": [
  {
   "cell_type": "markdown",
   "metadata": {},
   "source": [
    "# Assigmment 1"
   ]
  },
  {
   "cell_type": "markdown",
   "metadata": {},
   "source": [
    "Write a Python class named Circle constructed by a radius and two methods which will compute the area and the perimeter of a circle"
   ]
  },
  {
   "cell_type": "code",
   "execution_count": 37,
   "metadata": {},
   "outputs": [],
   "source": [
    "class Circle():\n",
    "    values={'area': 0, 'perimeter':0}\n",
    "    \n",
    "    def __init__(self,raraduis,pie=3.14):\n",
    "        \n",
    "        self.pie = pie\n",
    "        self.r = raraduis\n",
    "        \n",
    "    def perimeter_of_circle(self):\n",
    "        \n",
    "        values['perimeter'] = 2*self.pie* self.r\n",
    "        return \"The perimeter of circle is \", values['perimeter']\n",
    "    \n",
    "    def area_of_circle(self):\n",
    "        \n",
    "        values['area'] = self.pie*self.r*self.r\n",
    "        return 'this is area of cirle is', values['area']\n",
    "    "
   ]
  },
  {
   "cell_type": "code",
   "execution_count": 40,
   "metadata": {},
   "outputs": [
    {
     "data": {
      "text/plain": [
       "('this is area of cirle is', 3215.36)"
      ]
     },
     "execution_count": 40,
     "metadata": {},
     "output_type": "execute_result"
    }
   ],
   "source": [
    "cir = Circle(32)\n",
    "cir.area_of_circle()"
   ]
  },
  {
   "cell_type": "code",
   "execution_count": 41,
   "metadata": {},
   "outputs": [
    {
     "data": {
      "text/plain": [
       "('The perimeter of circle is ', 200.96)"
      ]
     },
     "execution_count": 41,
     "metadata": {},
     "output_type": "execute_result"
    }
   ],
   "source": [
    "cir.perimeter_of_circle()\n"
   ]
  },
  {
   "cell_type": "markdown",
   "metadata": {},
   "source": [
    "# Assigmetn-2"
   ]
  },
  {
   "cell_type": "markdown",
   "metadata": {},
   "source": [
    "Write a Python class which has two methods get_String and print_String. get_String accept a string from the user and print_String print the string in upper case."
   ]
  },
  {
   "cell_type": "code",
   "execution_count": 74,
   "metadata": {},
   "outputs": [],
   "source": [
    "class String():\n",
    "       \n",
    "    def get_string(self,stri):\n",
    "        self.stri = stri\n",
    "        \n",
    "    \n",
    "    def prin_string(self):\n",
    "        return self.stri.upper()\n",
    "        \n",
    "        \n",
    "        "
   ]
  },
  {
   "cell_type": "code",
   "execution_count": 78,
   "metadata": {},
   "outputs": [
    {
     "data": {
      "text/plain": [
       "'I AM USAMA'"
      ]
     },
     "execution_count": 78,
     "metadata": {},
     "output_type": "execute_result"
    }
   ],
   "source": [
    "my_str = String()\n",
    "\n",
    "my_str.get_string('i am usama')\n",
    "my_str.prin_string()\n"
   ]
  },
  {
   "cell_type": "markdown",
   "metadata": {},
   "source": [
    "# assigmnet-3"
   ]
  },
  {
   "cell_type": "markdown",
   "metadata": {},
   "source": [
    "Write a Python class to reverse a string word by word. - Go to the editor Input string : 'hello .py' Expected Output : '.py hello'"
   ]
  },
  {
   "cell_type": "code",
   "execution_count": 100,
   "metadata": {},
   "outputs": [],
   "source": [
    "class Reverse():\n",
    "    def __init__(self, sentence):\n",
    "        self.sen = sentence\n",
    "        \n",
    "    def reversing(self):\n",
    "        \n",
    "        my_string = self.sen.split()\n",
    "        return my_string[::-1]"
   ]
  },
  {
   "cell_type": "code",
   "execution_count": 102,
   "metadata": {},
   "outputs": [
    {
     "data": {
      "text/plain": [
       "['students', 'you', 'are', 'how']"
      ]
     },
     "execution_count": 102,
     "metadata": {},
     "output_type": "execute_result"
    }
   ],
   "source": [
    "a=Reverse(\"how are you students\")\n",
    "a.reversing()"
   ]
  }
 ],
 "metadata": {
  "kernelspec": {
   "display_name": "Python 3",
   "language": "python",
   "name": "python3"
  },
  "language_info": {
   "codemirror_mode": {
    "name": "ipython",
    "version": 3
   },
   "file_extension": ".py",
   "mimetype": "text/x-python",
   "name": "python",
   "nbconvert_exporter": "python",
   "pygments_lexer": "ipython3",
   "version": "3.7.4"
  }
 },
 "nbformat": 4,
 "nbformat_minor": 2
}
